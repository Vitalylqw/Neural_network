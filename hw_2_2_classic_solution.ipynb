{
 "cells": [
  {
   "cell_type": "code",
   "execution_count": 1,
   "metadata": {},
   "outputs": [],
   "source": [
    "import tensorflow as tf\n",
    "from tensorflow import keras \n",
    "import numpy as np\n",
    "from keras.datasets import fashion_mnist\n",
    "import pandas as pd\n",
    "import warnings\n",
    "warnings.simplefilter(action='ignore')\n",
    "import lightgbm as lgb\n",
    "import catboost as cb\n",
    "from sklearn.ensemble import RandomForestClassifier\n",
    "from sklearn.model_selection import KFold, cross_val_score,RandomizedSearchCV\n",
    "import xgboost as xgb\n",
    "from sklearn.linear_model import LogisticRegression\n",
    "from sklearn.metrics import roc_auc_score,accuracy_score\n"
   ]
  },
  {
   "cell_type": "code",
   "execution_count": 2,
   "metadata": {},
   "outputs": [],
   "source": [
    "(X_train,y_train),(X_test,y_test) = fashion_mnist.load_data()"
   ]
  },
  {
   "cell_type": "code",
   "execution_count": 3,
   "metadata": {},
   "outputs": [],
   "source": [
    "X_train = (X_train / 127) - 1\n",
    "X_test = (X_test / 127) - 1\n",
    "X_train = X_train.reshape((-1, 784))\n",
    "X_test = X_test.reshape((-1, 784))"
   ]
  },
  {
   "cell_type": "code",
   "execution_count": 4,
   "metadata": {},
   "outputs": [
    {
     "data": {
      "text/plain": [
       "((60000, 784), (60000,), (10000, 784), (10000,))"
      ]
     },
     "execution_count": 4,
     "metadata": {},
     "output_type": "execute_result"
    }
   ],
   "source": [
    "X_train.shape,y_train.shape,X_test.shape,y_test.shape"
   ]
  },
  {
   "cell_type": "code",
   "execution_count": 5,
   "metadata": {},
   "outputs": [],
   "source": [
    "cv_strategy = KFold(n_splits=5, shuffle=True, random_state=100)"
   ]
  },
  {
   "cell_type": "code",
   "execution_count": 6,
   "metadata": {},
   "outputs": [],
   "source": [
    "param_grid_lgbm   = {'n_estimators':[50,100,200,300,400,500,700,800,600,1000],'reg_alpha': [0.5,1,1.5,2,3,4,5,8,10,20],\n",
    "               'reg_lambda': [0.5,1,20,50,100,150,300,500,550,600],\n",
    "                'max_depth': [2,3,4,5,6,7,8,9,10,12],'min_child_samples':[5,10,15,20,25,30,35,40,45,50],\n",
    "               'num_leaves':[5,10,25,30,35,40,45,50,55,60]}\n",
    "\n",
    "param_grid_cb   = {'n_estimators':[50,100,200,300,400,500,700,800,600,1000],'l2_leaf_reg': [0.5,1,2,5,10,15,20,30,40,50],\n",
    "                'max_depth': [2,3,4,5,6,7,8,9,10,12],'min_child_samples':[5,10,15,20,25,30,35,40,45,50],\n",
    "                'max_bin':[5,10,25,30,35,40,45,50,55,60]}\n",
    "param_grid_rf = {'n_estimators': [50,100,200,300,400,500,700,800,600,1000], 'min_samples_split': [2,4,6,8,10,12,14,16,18,25]\n",
    "                 , 'min_samples_leaf': [2,4,6,8,10,12,14,16,18,25]}\n",
    "\n",
    "\n",
    "param_grid_lr ={'C': [0.1,1,1.5,2,2.5,3,4,5,6,7] ,'penalty': ['l1','l2']}\n",
    "\n",
    "params=[param_grid_lr,\n",
    "        param_grid_rf,\n",
    "        param_grid_cb,\n",
    "        param_grid_lgbm]  "
   ]
  },
  {
   "cell_type": "code",
   "execution_count": 7,
   "metadata": {},
   "outputs": [],
   "source": [
    "estimators= [LogisticRegression(max_iter=1000,solver = 'liblinear'),\n",
    "             RandomForestClassifier(n_jobs=-1),\n",
    "             cb.CatBoostClassifier(thread_count=15,early_stopping_rounds=90,verbose=False),\n",
    "             lgb.LGBMClassifier(n_jobs=-1)]"
   ]
  },
  {
   "cell_type": "code",
   "execution_count": 8,
   "metadata": {},
   "outputs": [],
   "source": [
    "ml_result=pd.DataFrame(columns=['model','res_accuracy'])"
   ]
  },
  {
   "cell_type": "code",
   "execution_count": 9,
   "metadata": {},
   "outputs": [],
   "source": [
    "# %%time\n",
    "# for i,estimator in enumerate(estimators):\n",
    "#     ml_result.loc[i,'model'] = str(estimator)\n",
    "#     model=RandomizedSearchCV(estimator=estimator,cv=cv_strategy,\\\n",
    "#         param_distributions = params[i],n_jobs = -1,n_iter = 10).fit(X_train,y_train)\n",
    "#     best_params = model.best_params_\n",
    "#     valid_predict = model.best_estimator_.predict(X_test)\n",
    "#     max_res = accuracy_score(y_test,valid_predict)\n",
    "#     ml_result.loc[i,'result'] = max_res\n",
    "#     ml_result.loc[i,'params'] = str(best_params)\n",
    "#     print(ml_result)"
   ]
  },
  {
   "cell_type": "code",
   "execution_count": 10,
   "metadata": {},
   "outputs": [
    {
     "name": "stdout",
     "output_type": "stream",
     "text": [
      "                                               model res_accuracy\n",
      "0  LogisticRegression(max_iter=1000, solver='libl...       0.8404\n",
      "                                               model res_accuracy\n",
      "0  LogisticRegression(max_iter=1000, solver='libl...       0.8404\n",
      "1                  RandomForestClassifier(n_jobs=-1)       0.8744\n",
      "                                               model res_accuracy\n",
      "0  LogisticRegression(max_iter=1000, solver='libl...       0.8404\n",
      "1                  RandomForestClassifier(n_jobs=-1)       0.8744\n",
      "2  <catboost.core.CatBoostClassifier object at 0x...       0.8926\n",
      "                                               model res_accuracy\n",
      "0  LogisticRegression(max_iter=1000, solver='libl...       0.8404\n",
      "1                  RandomForestClassifier(n_jobs=-1)       0.8744\n",
      "2  <catboost.core.CatBoostClassifier object at 0x...       0.8926\n",
      "3                                   LGBMClassifier()       0.8888\n",
      "Wall time: 28min 40s\n"
     ]
    }
   ],
   "source": [
    "%%time\n",
    "for i,estimator in enumerate(estimators):\n",
    "    ml_result.loc[i,'model'] = str(estimator)\n",
    "    model=estimator.fit(X_train,y_train)\n",
    "    valid_predict = model.predict(X_test)\n",
    "    max_res = accuracy_score(y_test,valid_predict)\n",
    "    ml_result.loc[i,'res_accuracy'] = max_res\n",
    "    print(ml_result)"
   ]
  },
  {
   "cell_type": "code",
   "execution_count": 11,
   "metadata": {},
   "outputs": [
    {
     "data": {
      "text/html": [
       "<div>\n",
       "<style scoped>\n",
       "    .dataframe tbody tr th:only-of-type {\n",
       "        vertical-align: middle;\n",
       "    }\n",
       "\n",
       "    .dataframe tbody tr th {\n",
       "        vertical-align: top;\n",
       "    }\n",
       "\n",
       "    .dataframe thead th {\n",
       "        text-align: right;\n",
       "    }\n",
       "</style>\n",
       "<table border=\"1\" class=\"dataframe\">\n",
       "  <thead>\n",
       "    <tr style=\"text-align: right;\">\n",
       "      <th></th>\n",
       "      <th>model</th>\n",
       "      <th>res_accuracy</th>\n",
       "    </tr>\n",
       "  </thead>\n",
       "  <tbody>\n",
       "    <tr>\n",
       "      <th>2</th>\n",
       "      <td>&lt;catboost.core.CatBoostClassifier object at 0x...</td>\n",
       "      <td>0.8926</td>\n",
       "    </tr>\n",
       "    <tr>\n",
       "      <th>3</th>\n",
       "      <td>LGBMClassifier()</td>\n",
       "      <td>0.8888</td>\n",
       "    </tr>\n",
       "    <tr>\n",
       "      <th>1</th>\n",
       "      <td>RandomForestClassifier(n_jobs=-1)</td>\n",
       "      <td>0.8744</td>\n",
       "    </tr>\n",
       "    <tr>\n",
       "      <th>0</th>\n",
       "      <td>LogisticRegression(max_iter=1000, solver='libl...</td>\n",
       "      <td>0.8404</td>\n",
       "    </tr>\n",
       "  </tbody>\n",
       "</table>\n",
       "</div>"
      ],
      "text/plain": [
       "                                               model res_accuracy\n",
       "2  <catboost.core.CatBoostClassifier object at 0x...       0.8926\n",
       "3                                   LGBMClassifier()       0.8888\n",
       "1                  RandomForestClassifier(n_jobs=-1)       0.8744\n",
       "0  LogisticRegression(max_iter=1000, solver='libl...       0.8404"
      ]
     },
     "execution_count": 11,
     "metadata": {},
     "output_type": "execute_result"
    }
   ],
   "source": [
    "ml_result.sort_values('res_accuracy',ascending=False,inplace=True)\n",
    "ml_result"
   ]
  },
  {
   "cell_type": "code",
   "execution_count": null,
   "metadata": {},
   "outputs": [],
   "source": []
  },
  {
   "cell_type": "code",
   "execution_count": null,
   "metadata": {},
   "outputs": [],
   "source": []
  },
  {
   "cell_type": "code",
   "execution_count": null,
   "metadata": {},
   "outputs": [],
   "source": []
  },
  {
   "cell_type": "code",
   "execution_count": null,
   "metadata": {},
   "outputs": [],
   "source": []
  },
  {
   "cell_type": "code",
   "execution_count": null,
   "metadata": {},
   "outputs": [],
   "source": []
  },
  {
   "cell_type": "code",
   "execution_count": null,
   "metadata": {},
   "outputs": [],
   "source": []
  },
  {
   "cell_type": "code",
   "execution_count": null,
   "metadata": {},
   "outputs": [],
   "source": []
  },
  {
   "cell_type": "code",
   "execution_count": null,
   "metadata": {},
   "outputs": [],
   "source": []
  },
  {
   "cell_type": "code",
   "execution_count": null,
   "metadata": {},
   "outputs": [],
   "source": []
  },
  {
   "cell_type": "code",
   "execution_count": null,
   "metadata": {},
   "outputs": [],
   "source": []
  }
 ],
 "metadata": {
  "kernelspec": {
   "display_name": "Python 3",
   "language": "python",
   "name": "python3"
  },
  "language_info": {
   "codemirror_mode": {
    "name": "ipython",
    "version": 3
   },
   "file_extension": ".py",
   "mimetype": "text/x-python",
   "name": "python",
   "nbconvert_exporter": "python",
   "pygments_lexer": "ipython3",
   "version": "3.8.3"
  }
 },
 "nbformat": 4,
 "nbformat_minor": 4
}
