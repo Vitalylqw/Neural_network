{
 "cells": [
  {
   "cell_type": "code",
   "execution_count": null,
   "metadata": {},
   "outputs": [],
   "source": []
  },
  {
   "cell_type": "code",
   "execution_count": 1,
   "metadata": {},
   "outputs": [],
   "source": [
    "import tensorflow as tf\n",
    "physical_devices = tf.config.list_physical_devices('GPU') \n",
    "tf.config.experimental.set_memory_growth(physical_devices[0], True)"
   ]
  },
  {
   "cell_type": "code",
   "execution_count": 2,
   "metadata": {},
   "outputs": [
    {
     "name": "stdout",
     "output_type": "stream",
     "text": [
      " CPU работает:\n",
      "100 циклов: 357.33ms\n",
      " какой GPU:\n",
      "100 циклов: 354.21ms\n",
      " CPU работает:\n",
      "100 циклов: 357.33ms\n",
      " какой GPU:\n",
      "100 циклов: 6.01ms\n"
     ]
    }
   ],
   "source": [
    "# Для запуска графического ядра\n",
    "import time\n",
    "\n",
    "\n",
    "def time_matmul(x):\n",
    "  start = time.time()\n",
    "  for loop in range(100):\n",
    "    tf.matmul(x, x)\n",
    "\n",
    "  result = time.time()-start\n",
    "\n",
    "  print(\"100 циклов: {:0.2f}ms\".format(1000*result))\n",
    "\n",
    "for _ in range(2):\n",
    "    # исполнение CPU\n",
    "    print(\" CPU работает:\")\n",
    "    with tf.device(\"CPU:0\"):\n",
    "      x = tf.random.uniform([1000, 1000])\n",
    "      assert x.device.endswith(\"CPU:0\")\n",
    "      time_matmul(x)\n",
    "\n",
    "    # исполнение на GPU #0 , если доступен\n",
    "    if tf.config.experimental.list_physical_devices(\"GPU\"):\n",
    "      print(\" какой GPU:\")\n",
    "      with tf.device(\"GPU:0\"): # или GPU:1 , для 2х GPU, GPU:2 для 3х  и т.д.\n",
    "        x = tf.random.uniform([1000, 1000])\n",
    "        assert x.device.endswith(\"GPU:0\")\n",
    "        time_matmul(x)"
   ]
  },
  {
   "cell_type": "code",
   "execution_count": null,
   "metadata": {},
   "outputs": [],
   "source": []
  },
  {
   "cell_type": "code",
   "execution_count": 3,
   "metadata": {},
   "outputs": [],
   "source": [
    "from tensorflow import keras \n",
    "import numpy as np\n",
    "from tensorflow.keras.utils import to_categorical\n",
    "from tensorflow.keras.models import Sequential\n",
    "from tensorflow.keras.layers import Dense\n",
    "from tensorflow.keras.utils import to_categorical\n",
    "from tensorflow.keras.datasets import boston_housing\n",
    "from tensorflow.keras.layers import Input, Flatten\n",
    "from tensorflow.keras.models import Model\n",
    "from tensorflow.keras.layers import Concatenate \n",
    "import pandas as pd\n",
    "import matplotlib.pyplot as plt\n",
    "import matplotlib as mpl\n",
    "import seaborn as sns\n",
    "import scipy.stats as st\n",
    "from scipy.stats import probplot, ks_2samp\n",
    "from sklearn.preprocessing import normalize\n",
    "from tensorflow.keras.optimizers import SGD, RMSprop,Adam\n",
    "import re\n",
    "from catboost import Pool, CatBoostRegressor\n",
    "from sklearn.metrics import r2_score\n",
    "from sklearn.model_selection import KFold, cross_val_score,RandomizedSearchCV\n",
    "from tensorflow.keras.utils import plot_model"
   ]
  },
  {
   "cell_type": "code",
   "execution_count": null,
   "metadata": {},
   "outputs": [],
   "source": []
  },
  {
   "cell_type": "code",
   "execution_count": 4,
   "metadata": {},
   "outputs": [],
   "source": [
    "def coeff_determination(y_true, y_pred):\n",
    "    from tensorflow.keras import backend as K\n",
    "    SS_res =  K.sum(K.square( y_true-y_pred ))\n",
    "    SS_tot = K.sum(K.square( y_true - K.mean(y_true) ) )\n",
    "    return ( 1 - SS_res/(SS_tot + K.epsilon()) )"
   ]
  },
  {
   "cell_type": "code",
   "execution_count": null,
   "metadata": {},
   "outputs": [],
   "source": []
  },
  {
   "cell_type": "code",
   "execution_count": null,
   "metadata": {},
   "outputs": [],
   "source": []
  },
  {
   "cell_type": "code",
   "execution_count": 5,
   "metadata": {},
   "outputs": [],
   "source": [
    "# Загрузим данные с датасета \n",
    "(X_train,y_train),(X_test,y_test) = boston_housing.load_data()"
   ]
  },
  {
   "cell_type": "code",
   "execution_count": 6,
   "metadata": {},
   "outputs": [
    {
     "data": {
      "text/plain": [
       "((404, 13), (404,), (102, 13), (102,))"
      ]
     },
     "execution_count": 6,
     "metadata": {},
     "output_type": "execute_result"
    }
   ],
   "source": [
    "X_train.shape,y_train.shape,X_test.shape,y_test.shape"
   ]
  },
  {
   "cell_type": "code",
   "execution_count": null,
   "metadata": {},
   "outputs": [],
   "source": []
  },
  {
   "cell_type": "code",
   "execution_count": null,
   "metadata": {},
   "outputs": [],
   "source": []
  },
  {
   "cell_type": "code",
   "execution_count": 12,
   "metadata": {},
   "outputs": [],
   "source": [
    "# fig, axes = plt.subplots(4, 4, figsize=(15, 15))\n",
    "\n",
    "# for num in range(X_train.shape[1]):\n",
    "#     data = X_train[:,num].copy()\n",
    "#     axes[num//4, num%4].hist(data, bins=30, color=\"blue\")\n",
    "#     axes[num//4, num%4].set_xlabel(f'f_{num}', fontsize=14)"
   ]
  },
  {
   "cell_type": "code",
   "execution_count": 13,
   "metadata": {},
   "outputs": [],
   "source": [
    "# fig, axes = plt.subplots(4, 4, figsize=(20, 20))\n",
    "\n",
    "# for i in range(X_train.shape[1]):\n",
    "#     train_data, test_data = X_train[:,i].copy(), X_test[:,i].copy()\n",
    "#     sns.kdeplot(train_data, ax=axes[i//4, i%4], color=\"blue\", label=\"train\")\n",
    "#     sns.kdeplot(test_data, ax=axes[i//4, i%4], color=\"green\", label=\"test\")\n",
    "   \n",
    "#     axes[i//4, i%4].set_title(f'f_{i}', fontsize=14)"
   ]
  },
  {
   "cell_type": "markdown",
   "metadata": {},
   "source": [
    "## Анализ распределения целевой переменной"
   ]
  },
  {
   "cell_type": "code",
   "execution_count": 14,
   "metadata": {},
   "outputs": [],
   "source": [
    "# target = y_train\n",
    "# fig, axes = plt.subplots(1, 3, figsize=(18, 5))\n",
    "\n",
    "# axes[0].set_title(\"Johnson SU\", fontsize=14)\n",
    "# sns.distplot(target, kde=False, color=\"blue\", fit=st.johnsonsu, ax=axes[0])\n",
    "\n",
    "# axes[1].set_title(\"Normal\", fontsize=14)\n",
    "# sns.distplot(target, kde=False, color=\"blue\", fit=st.norm, ax=axes[1])\n",
    "\n",
    "# axes[2].set_title(\"Log Normal\", fontsize=14)\n",
    "# sns.distplot(target, kde=False, color=\"blue\", fit=st.lognorm, ax=axes[2])"
   ]
  },
  {
   "cell_type": "code",
   "execution_count": 15,
   "metadata": {},
   "outputs": [],
   "source": [
    "# target = np.log(y_train)\n",
    "# fig = plt.figure(figsize=(13, 5))\n",
    "# plt.subplot(121)\n",
    "# sns.distplot(target, bins=15, color=\"blue\")\n",
    "# plt.subplot(122)\n",
    "# probplot(target, plot=plt)\n",
    "# plt.show()"
   ]
  },
  {
   "cell_type": "code",
   "execution_count": 16,
   "metadata": {},
   "outputs": [],
   "source": [
    "# target = y_train\n",
    "# fig = plt.figure(figsize=(13, 5))\n",
    "# plt.subplot(121)\n",
    "# sns.distplot(target, bins=15, color=\"blue\")\n",
    "# plt.subplot(122)\n",
    "# probplot(target, plot=plt)\n",
    "# plt.show()"
   ]
  },
  {
   "cell_type": "markdown",
   "metadata": {},
   "source": [
    "BASELAINE classic"
   ]
  },
  {
   "cell_type": "code",
   "execution_count": 13,
   "metadata": {},
   "outputs": [],
   "source": [
    "param_grid_cb   = {'n_estimators':[50,100,200,300,400,500,700,800,600,1000],'l2_leaf_reg': [0.5,1,2,5,10,15,20,30,40,50],\n",
    "                'max_depth': [2,3,4,5,6,7,8,9,10,12],'min_child_samples':[5,10,15,20,25,30,35,40,45,50],\n",
    "                'max_bin':[5,10,25,30,35,40,45,50,55,60]}\n",
    "cv_strategy = KFold(n_splits=5, shuffle=True, random_state=100)"
   ]
  },
  {
   "cell_type": "code",
   "execution_count": 14,
   "metadata": {},
   "outputs": [
    {
     "name": "stdout",
     "output_type": "stream",
     "text": [
      "{'n_estimators': 1000, 'min_child_samples': 20, 'max_depth': 4, 'max_bin': 45, 'l2_leaf_reg': 15}\n",
      "Wall time: 1min 8s\n"
     ]
    },
    {
     "data": {
      "text/plain": [
       "0.8700559993340975"
      ]
     },
     "execution_count": 14,
     "metadata": {},
     "output_type": "execute_result"
    }
   ],
   "source": [
    "%%time\n",
    "model=RandomizedSearchCV(estimator=CatBoostRegressor(thread_count=15,early_stopping_rounds=90,verbose=False)\\\n",
    "                         ,cv=cv_strategy,  param_distributions = param_grid_cb,n_jobs = -1,n_iter = 50).fit(X_train,y_train)\n",
    "print( model.best_params_)\n",
    "valid_predict = model.best_estimator_.predict(X_test)\n",
    "r2_score(y_test,valid_predict)"
   ]
  },
  {
   "cell_type": "markdown",
   "metadata": {},
   "source": [
    "### Нормализуем данные"
   ]
  },
  {
   "cell_type": "code",
   "execution_count": 15,
   "metadata": {},
   "outputs": [],
   "source": [
    "# X_train_w=normalize(X_train)\n",
    "# X_test_w = normalize(X_test)\n",
    "# y_train_w = np.log(y_train)\n",
    "# y_test_w = np.log(y_test)"
   ]
  },
  {
   "cell_type": "markdown",
   "metadata": {},
   "source": [
    "### Сделаем тестовую модель, что бы проверить как работает и с какими данными лучше работать"
   ]
  },
  {
   "cell_type": "code",
   "execution_count": 16,
   "metadata": {},
   "outputs": [],
   "source": [
    "# # Заполняем модель, формируя граф передачи тензоров\n",
    "# x_input = Input(shape=(13))\n",
    "# x = Flatten()(x_input)\n",
    "# x = Dense(200, activation='sigmoid')(x)\n",
    "# x = Dense(300, activation='relu')(x)\n",
    "# x_output = Dense(1)(x)\n",
    "# model=Model(x_input,x_output,name = '22')"
   ]
  },
  {
   "cell_type": "code",
   "execution_count": 7,
   "metadata": {},
   "outputs": [],
   "source": [
    "opt_adam = keras.optimizers.Adam()\n",
    "loss=tf.keras.losses.MeanSquaredError()\n",
    "metric= coeff_determination\n"
   ]
  },
  {
   "cell_type": "code",
   "execution_count": 18,
   "metadata": {},
   "outputs": [],
   "source": [
    "# model.compile(optimizer=opt_adam,\n",
    "#               loss=loss,\n",
    "#               metrics=[metric])"
   ]
  },
  {
   "cell_type": "code",
   "execution_count": 19,
   "metadata": {},
   "outputs": [],
   "source": [
    "# ww = model.get_weights()"
   ]
  },
  {
   "cell_type": "code",
   "execution_count": 18,
   "metadata": {},
   "outputs": [],
   "source": [
    "# # Данныее без изменений\n",
    "# model.set_weights(ww)\n",
    "# hh_1 = model.fit(X_train,y_train,epochs=10,validation_data=(X_test, y_test),verbose=1)\n",
    "# model.evaluate(X_test,y_test)"
   ]
  },
  {
   "cell_type": "code",
   "execution_count": 8,
   "metadata": {},
   "outputs": [],
   "source": [
    "N=200\n",
    "models=[]\n",
    "x_input = Input(shape=(13))\n",
    "levels=np.arange(2,10)\n",
    "num_n = np.arange(130,1001,13)\n",
    "fun = ['relu','sigmoid','relu','sigmoid','relu','relu','tanh','relu','relu']\n",
    "\n",
    "for _ in range(N):\n",
    "    level = np.random.choice(levels)\n",
    "    x = Flatten()(x_input)\n",
    "    my_level = []\n",
    "    for l in range(level):\n",
    "        n = np.random.choice(num_n)\n",
    "        f = np.random.choice(fun)\n",
    "        x=Dense(n,activation=f)(x)\n",
    "        my_level.append((n,f))\n",
    "    x_output = Dense(1)(x)   \n",
    "    name=f'{level}_{my_level}'\n",
    "    name =re.sub(\"[\\[\\]()'',]\",'',name)\n",
    "    name=re.sub(\" \",'_',name)\n",
    "    model=Model(x_input,x_output,name=name)\n",
    "    models.append((model,model.get_weights()))"
   ]
  },
  {
   "cell_type": "code",
   "execution_count": 9,
   "metadata": {},
   "outputs": [
    {
     "name": "stdout",
     "output_type": "stream",
     "text": [
      "7_650_sigmoid_559_sigmoid_338_relu_780_relu_910_relu_806_relu_455_relu\n",
      "7_845_sigmoid_234_sigmoid_624_sigmoid_377_sigmoid_390_relu_416_relu_949_relu\n",
      "7_143_relu_351_tanh_663_tanh_403_relu_819_relu_273_relu_611_sigmoid\n",
      "9_923_relu_598_sigmoid_429_relu_585_relu_585_tanh_468_relu_364_relu_624_relu_182_tanh\n",
      "8_143_relu_520_relu_507_relu_650_sigmoid_923_sigmoid_507_relu_351_sigmoid_650_relu\n"
     ]
    }
   ],
   "source": [
    "for i in range(5):\n",
    "    print(models[i][0].name)\n"
   ]
  },
  {
   "cell_type": "code",
   "execution_count": null,
   "metadata": {},
   "outputs": [],
   "source": []
  },
  {
   "cell_type": "code",
   "execution_count": 10,
   "metadata": {},
   "outputs": [
    {
     "data": {
      "text/plain": [
       "200"
      ]
     },
     "execution_count": 10,
     "metadata": {},
     "output_type": "execute_result"
    }
   ],
   "source": [
    "len(models)"
   ]
  },
  {
   "cell_type": "code",
   "execution_count": 11,
   "metadata": {},
   "outputs": [
    {
     "name": "stdout",
     "output_type": "stream",
     "text": [
      "Wall time: 2h 2min 20s\n"
     ]
    }
   ],
   "source": [
    "%%time\n",
    "n_test = 10\n",
    "result = pd.DataFrame()\n",
    "for model in models:\n",
    "    for opt in [Adam()]:\n",
    "        for epochs in [75,150]:\n",
    "            model[0].compile(optimizer=opt,\n",
    "                          loss=tf.keras.losses.MeanSquaredError(),\n",
    "                          metrics=[coeff_determination])\n",
    "            testing = []\n",
    "            for _ in range(n_test):\n",
    "                model[0].set_weights(model[1])\n",
    "                hh = model[0].fit(X_train,y_train,epochs=epochs,\\\n",
    "                              validation_data=(X_test, y_test),verbose=0,batch_size=1000)\n",
    "                answer = hh.history['val_coeff_determination'][-1]\n",
    "                testing.append(answer)\n",
    "            testing = testing = np.array(testing)\n",
    "            d={\n",
    "                'name':model[0].name,\n",
    "                'epoch': epochs,\n",
    "                'opt':opt,\n",
    "                'res_min':testing.min(),\n",
    "                'res_max':testing.max(),\n",
    "                'res_mean':testing.mean(),\n",
    "                'res_std':testing.std(),\n",
    "               }\n",
    "\n",
    "            result = result.append(d,ignore_index=True)\n",
    "            \n"
   ]
  },
  {
   "cell_type": "code",
   "execution_count": 12,
   "metadata": {},
   "outputs": [
    {
     "data": {
      "text/html": [
       "<div>\n",
       "<style scoped>\n",
       "    .dataframe tbody tr th:only-of-type {\n",
       "        vertical-align: middle;\n",
       "    }\n",
       "\n",
       "    .dataframe tbody tr th {\n",
       "        vertical-align: top;\n",
       "    }\n",
       "\n",
       "    .dataframe thead th {\n",
       "        text-align: right;\n",
       "    }\n",
       "</style>\n",
       "<table border=\"1\" class=\"dataframe\">\n",
       "  <thead>\n",
       "    <tr style=\"text-align: right;\">\n",
       "      <th></th>\n",
       "      <th>epoch</th>\n",
       "      <th>name</th>\n",
       "      <th>opt</th>\n",
       "      <th>res_max</th>\n",
       "      <th>res_mean</th>\n",
       "      <th>res_min</th>\n",
       "      <th>res_std</th>\n",
       "    </tr>\n",
       "  </thead>\n",
       "  <tbody>\n",
       "    <tr>\n",
       "      <th>177</th>\n",
       "      <td>150.0</td>\n",
       "      <td>2_923_tanh_988_relu</td>\n",
       "      <td>&lt;tensorflow.python.keras.optimizer_v2.adam.Ada...</td>\n",
       "      <td>0.732828</td>\n",
       "      <td>0.712879</td>\n",
       "      <td>0.676502</td>\n",
       "      <td>0.016364</td>\n",
       "    </tr>\n",
       "    <tr>\n",
       "      <th>169</th>\n",
       "      <td>150.0</td>\n",
       "      <td>2_741_tanh_975_relu</td>\n",
       "      <td>&lt;tensorflow.python.keras.optimizer_v2.adam.Ada...</td>\n",
       "      <td>0.734671</td>\n",
       "      <td>0.712604</td>\n",
       "      <td>0.681297</td>\n",
       "      <td>0.017437</td>\n",
       "    </tr>\n",
       "    <tr>\n",
       "      <th>149</th>\n",
       "      <td>150.0</td>\n",
       "      <td>4_338_sigmoid_650_relu_806_relu_325_relu</td>\n",
       "      <td>&lt;tensorflow.python.keras.optimizer_v2.adam.Ada...</td>\n",
       "      <td>0.717172</td>\n",
       "      <td>0.691426</td>\n",
       "      <td>0.614096</td>\n",
       "      <td>0.030923</td>\n",
       "    </tr>\n",
       "    <tr>\n",
       "      <th>237</th>\n",
       "      <td>150.0</td>\n",
       "      <td>3_546_sigmoid_806_relu_832_relu</td>\n",
       "      <td>&lt;tensorflow.python.keras.optimizer_v2.adam.Ada...</td>\n",
       "      <td>0.727752</td>\n",
       "      <td>0.688071</td>\n",
       "      <td>0.619649</td>\n",
       "      <td>0.037749</td>\n",
       "    </tr>\n",
       "    <tr>\n",
       "      <th>21</th>\n",
       "      <td>150.0</td>\n",
       "      <td>3_845_sigmoid_884_relu_728_relu</td>\n",
       "      <td>&lt;tensorflow.python.keras.optimizer_v2.adam.Ada...</td>\n",
       "      <td>0.714231</td>\n",
       "      <td>0.678858</td>\n",
       "      <td>0.632282</td>\n",
       "      <td>0.021623</td>\n",
       "    </tr>\n",
       "    <tr>\n",
       "      <th>231</th>\n",
       "      <td>150.0</td>\n",
       "      <td>2_572_relu_689_relu</td>\n",
       "      <td>&lt;tensorflow.python.keras.optimizer_v2.adam.Ada...</td>\n",
       "      <td>0.701270</td>\n",
       "      <td>0.674727</td>\n",
       "      <td>0.643448</td>\n",
       "      <td>0.014990</td>\n",
       "    </tr>\n",
       "    <tr>\n",
       "      <th>397</th>\n",
       "      <td>150.0</td>\n",
       "      <td>4_806_sigmoid_143_relu_403_relu_936_relu</td>\n",
       "      <td>&lt;tensorflow.python.keras.optimizer_v2.adam.Ada...</td>\n",
       "      <td>0.735177</td>\n",
       "      <td>0.664312</td>\n",
       "      <td>0.501252</td>\n",
       "      <td>0.060652</td>\n",
       "    </tr>\n",
       "    <tr>\n",
       "      <th>263</th>\n",
       "      <td>150.0</td>\n",
       "      <td>2_546_relu_455_relu</td>\n",
       "      <td>&lt;tensorflow.python.keras.optimizer_v2.adam.Ada...</td>\n",
       "      <td>0.665814</td>\n",
       "      <td>0.652638</td>\n",
       "      <td>0.618392</td>\n",
       "      <td>0.013425</td>\n",
       "    </tr>\n",
       "    <tr>\n",
       "      <th>85</th>\n",
       "      <td>150.0</td>\n",
       "      <td>2_767_sigmoid_637_relu</td>\n",
       "      <td>&lt;tensorflow.python.keras.optimizer_v2.adam.Ada...</td>\n",
       "      <td>0.694383</td>\n",
       "      <td>0.646847</td>\n",
       "      <td>0.577424</td>\n",
       "      <td>0.043431</td>\n",
       "    </tr>\n",
       "    <tr>\n",
       "      <th>69</th>\n",
       "      <td>150.0</td>\n",
       "      <td>6_871_sigmoid_650_relu_468_relu_247_relu_884_r...</td>\n",
       "      <td>&lt;tensorflow.python.keras.optimizer_v2.adam.Ada...</td>\n",
       "      <td>0.686834</td>\n",
       "      <td>0.646529</td>\n",
       "      <td>0.586652</td>\n",
       "      <td>0.036073</td>\n",
       "    </tr>\n",
       "  </tbody>\n",
       "</table>\n",
       "</div>"
      ],
      "text/plain": [
       "     epoch                                               name  \\\n",
       "177  150.0                                2_923_tanh_988_relu   \n",
       "169  150.0                                2_741_tanh_975_relu   \n",
       "149  150.0           4_338_sigmoid_650_relu_806_relu_325_relu   \n",
       "237  150.0                    3_546_sigmoid_806_relu_832_relu   \n",
       "21   150.0                    3_845_sigmoid_884_relu_728_relu   \n",
       "231  150.0                                2_572_relu_689_relu   \n",
       "397  150.0           4_806_sigmoid_143_relu_403_relu_936_relu   \n",
       "263  150.0                                2_546_relu_455_relu   \n",
       "85   150.0                             2_767_sigmoid_637_relu   \n",
       "69   150.0  6_871_sigmoid_650_relu_468_relu_247_relu_884_r...   \n",
       "\n",
       "                                                   opt   res_max  res_mean  \\\n",
       "177  <tensorflow.python.keras.optimizer_v2.adam.Ada...  0.732828  0.712879   \n",
       "169  <tensorflow.python.keras.optimizer_v2.adam.Ada...  0.734671  0.712604   \n",
       "149  <tensorflow.python.keras.optimizer_v2.adam.Ada...  0.717172  0.691426   \n",
       "237  <tensorflow.python.keras.optimizer_v2.adam.Ada...  0.727752  0.688071   \n",
       "21   <tensorflow.python.keras.optimizer_v2.adam.Ada...  0.714231  0.678858   \n",
       "231  <tensorflow.python.keras.optimizer_v2.adam.Ada...  0.701270  0.674727   \n",
       "397  <tensorflow.python.keras.optimizer_v2.adam.Ada...  0.735177  0.664312   \n",
       "263  <tensorflow.python.keras.optimizer_v2.adam.Ada...  0.665814  0.652638   \n",
       "85   <tensorflow.python.keras.optimizer_v2.adam.Ada...  0.694383  0.646847   \n",
       "69   <tensorflow.python.keras.optimizer_v2.adam.Ada...  0.686834  0.646529   \n",
       "\n",
       "      res_min   res_std  \n",
       "177  0.676502  0.016364  \n",
       "169  0.681297  0.017437  \n",
       "149  0.614096  0.030923  \n",
       "237  0.619649  0.037749  \n",
       "21   0.632282  0.021623  \n",
       "231  0.643448  0.014990  \n",
       "397  0.501252  0.060652  \n",
       "263  0.618392  0.013425  \n",
       "85   0.577424  0.043431  \n",
       "69   0.586652  0.036073  "
      ]
     },
     "execution_count": 12,
     "metadata": {},
     "output_type": "execute_result"
    }
   ],
   "source": [
    "result.sort_values('res_mean',ascending=False,inplace=True)\n",
    "result.head(10)"
   ]
  },
  {
   "cell_type": "markdown",
   "metadata": {},
   "source": [
    "### Возмем первые топ 10 моделей и проверим их на устойчивость"
   ]
  },
  {
   "cell_type": "code",
   "execution_count": 13,
   "metadata": {},
   "outputs": [],
   "source": [
    "def name_model(name):\n",
    "    for m in models:\n",
    "        if m[0].name == name:\n",
    "            return m\n",
    "        \n",
    "best_models=[]\n",
    "for i in range(10):\n",
    "    my_iter = result.iloc[i]\n",
    "    best_models.append((name_model(my_iter['name']),my_iter['epoch'],my_iter['opt']))\n",
    "    "
   ]
  },
  {
   "cell_type": "code",
   "execution_count": 14,
   "metadata": {},
   "outputs": [
    {
     "data": {
      "text/plain": [
       "'2_923_tanh_988_relu'"
      ]
     },
     "execution_count": 14,
     "metadata": {},
     "output_type": "execute_result"
    }
   ],
   "source": [
    "best_models[0][0][0].name"
   ]
  },
  {
   "cell_type": "code",
   "execution_count": 15,
   "metadata": {},
   "outputs": [
    {
     "name": "stdout",
     "output_type": "stream",
     "text": [
      "Wall time: 17min 49s\n"
     ]
    }
   ],
   "source": [
    "%%time\n",
    "test_num = 50\n",
    "best_result = pd.DataFrame()\n",
    "for m in best_models:\n",
    "    testing=[]\n",
    "    for _ in range (test_num):\n",
    "        \n",
    "        m[0][0].set_weights(m[0][1])\n",
    "        hh = m[0][0].fit(X_train,y_train,epochs=int(m[1]),\\\n",
    "                          validation_data=(X_test, y_test),verbose=0,batch_size=1000)\n",
    "        answer = hh.history['val_coeff_determination'][-1]\n",
    "        testing.append(answer)\n",
    "    testing = np.array(testing)\n",
    "    d={\n",
    "        'name':m[0][0].name,\n",
    "        'epoch': m[1],\n",
    "        'opt':m[2],\n",
    "        'res_min':testing.min(),\n",
    "        'res_max':testing.max(),\n",
    "        'res_mean':testing.mean(),\n",
    "        'res_std':testing.std(),\n",
    "        'res_median':np.median(testing)\n",
    "    }\n",
    "    best_result = best_result.append(d,ignore_index=True)"
   ]
  },
  {
   "cell_type": "code",
   "execution_count": 16,
   "metadata": {},
   "outputs": [
    {
     "data": {
      "text/html": [
       "<div>\n",
       "<style scoped>\n",
       "    .dataframe tbody tr th:only-of-type {\n",
       "        vertical-align: middle;\n",
       "    }\n",
       "\n",
       "    .dataframe tbody tr th {\n",
       "        vertical-align: top;\n",
       "    }\n",
       "\n",
       "    .dataframe thead th {\n",
       "        text-align: right;\n",
       "    }\n",
       "</style>\n",
       "<table border=\"1\" class=\"dataframe\">\n",
       "  <thead>\n",
       "    <tr style=\"text-align: right;\">\n",
       "      <th></th>\n",
       "      <th>epoch</th>\n",
       "      <th>name</th>\n",
       "      <th>opt</th>\n",
       "      <th>res_max</th>\n",
       "      <th>res_mean</th>\n",
       "      <th>res_median</th>\n",
       "      <th>res_min</th>\n",
       "      <th>res_std</th>\n",
       "    </tr>\n",
       "  </thead>\n",
       "  <tbody>\n",
       "    <tr>\n",
       "      <th>1</th>\n",
       "      <td>150.0</td>\n",
       "      <td>2_741_tanh_975_relu</td>\n",
       "      <td>&lt;tensorflow.python.keras.optimizer_v2.adam.Ada...</td>\n",
       "      <td>0.736022</td>\n",
       "      <td>0.711259</td>\n",
       "      <td>0.711237</td>\n",
       "      <td>0.678766</td>\n",
       "      <td>0.011835</td>\n",
       "    </tr>\n",
       "    <tr>\n",
       "      <th>0</th>\n",
       "      <td>150.0</td>\n",
       "      <td>2_923_tanh_988_relu</td>\n",
       "      <td>&lt;tensorflow.python.keras.optimizer_v2.adam.Ada...</td>\n",
       "      <td>0.742504</td>\n",
       "      <td>0.707974</td>\n",
       "      <td>0.709502</td>\n",
       "      <td>0.665977</td>\n",
       "      <td>0.020682</td>\n",
       "    </tr>\n",
       "    <tr>\n",
       "      <th>3</th>\n",
       "      <td>150.0</td>\n",
       "      <td>3_546_sigmoid_806_relu_832_relu</td>\n",
       "      <td>&lt;tensorflow.python.keras.optimizer_v2.adam.Ada...</td>\n",
       "      <td>0.735497</td>\n",
       "      <td>0.682744</td>\n",
       "      <td>0.690178</td>\n",
       "      <td>0.598915</td>\n",
       "      <td>0.035085</td>\n",
       "    </tr>\n",
       "    <tr>\n",
       "      <th>2</th>\n",
       "      <td>150.0</td>\n",
       "      <td>4_338_sigmoid_650_relu_806_relu_325_relu</td>\n",
       "      <td>&lt;tensorflow.python.keras.optimizer_v2.adam.Ada...</td>\n",
       "      <td>0.734308</td>\n",
       "      <td>0.676304</td>\n",
       "      <td>0.681211</td>\n",
       "      <td>0.554438</td>\n",
       "      <td>0.040720</td>\n",
       "    </tr>\n",
       "    <tr>\n",
       "      <th>5</th>\n",
       "      <td>150.0</td>\n",
       "      <td>2_572_relu_689_relu</td>\n",
       "      <td>&lt;tensorflow.python.keras.optimizer_v2.adam.Ada...</td>\n",
       "      <td>0.703165</td>\n",
       "      <td>0.663903</td>\n",
       "      <td>0.664882</td>\n",
       "      <td>0.613228</td>\n",
       "      <td>0.020126</td>\n",
       "    </tr>\n",
       "    <tr>\n",
       "      <th>4</th>\n",
       "      <td>150.0</td>\n",
       "      <td>3_845_sigmoid_884_relu_728_relu</td>\n",
       "      <td>&lt;tensorflow.python.keras.optimizer_v2.adam.Ada...</td>\n",
       "      <td>0.716705</td>\n",
       "      <td>0.659665</td>\n",
       "      <td>0.666879</td>\n",
       "      <td>0.582257</td>\n",
       "      <td>0.037770</td>\n",
       "    </tr>\n",
       "    <tr>\n",
       "      <th>7</th>\n",
       "      <td>150.0</td>\n",
       "      <td>2_546_relu_455_relu</td>\n",
       "      <td>&lt;tensorflow.python.keras.optimizer_v2.adam.Ada...</td>\n",
       "      <td>0.688745</td>\n",
       "      <td>0.656539</td>\n",
       "      <td>0.655483</td>\n",
       "      <td>0.615488</td>\n",
       "      <td>0.012230</td>\n",
       "    </tr>\n",
       "    <tr>\n",
       "      <th>8</th>\n",
       "      <td>150.0</td>\n",
       "      <td>2_767_sigmoid_637_relu</td>\n",
       "      <td>&lt;tensorflow.python.keras.optimizer_v2.adam.Ada...</td>\n",
       "      <td>0.692105</td>\n",
       "      <td>0.617783</td>\n",
       "      <td>0.622787</td>\n",
       "      <td>0.538721</td>\n",
       "      <td>0.032760</td>\n",
       "    </tr>\n",
       "    <tr>\n",
       "      <th>6</th>\n",
       "      <td>150.0</td>\n",
       "      <td>4_806_sigmoid_143_relu_403_relu_936_relu</td>\n",
       "      <td>&lt;tensorflow.python.keras.optimizer_v2.adam.Ada...</td>\n",
       "      <td>0.735179</td>\n",
       "      <td>0.605477</td>\n",
       "      <td>0.613650</td>\n",
       "      <td>0.439480</td>\n",
       "      <td>0.066799</td>\n",
       "    </tr>\n",
       "    <tr>\n",
       "      <th>9</th>\n",
       "      <td>150.0</td>\n",
       "      <td>6_871_sigmoid_650_relu_468_relu_247_relu_884_r...</td>\n",
       "      <td>&lt;tensorflow.python.keras.optimizer_v2.adam.Ada...</td>\n",
       "      <td>0.676239</td>\n",
       "      <td>0.496312</td>\n",
       "      <td>0.542439</td>\n",
       "      <td>-0.095041</td>\n",
       "      <td>0.181059</td>\n",
       "    </tr>\n",
       "  </tbody>\n",
       "</table>\n",
       "</div>"
      ],
      "text/plain": [
       "   epoch                                               name  \\\n",
       "1  150.0                                2_741_tanh_975_relu   \n",
       "0  150.0                                2_923_tanh_988_relu   \n",
       "3  150.0                    3_546_sigmoid_806_relu_832_relu   \n",
       "2  150.0           4_338_sigmoid_650_relu_806_relu_325_relu   \n",
       "5  150.0                                2_572_relu_689_relu   \n",
       "4  150.0                    3_845_sigmoid_884_relu_728_relu   \n",
       "7  150.0                                2_546_relu_455_relu   \n",
       "8  150.0                             2_767_sigmoid_637_relu   \n",
       "6  150.0           4_806_sigmoid_143_relu_403_relu_936_relu   \n",
       "9  150.0  6_871_sigmoid_650_relu_468_relu_247_relu_884_r...   \n",
       "\n",
       "                                                 opt   res_max  res_mean  \\\n",
       "1  <tensorflow.python.keras.optimizer_v2.adam.Ada...  0.736022  0.711259   \n",
       "0  <tensorflow.python.keras.optimizer_v2.adam.Ada...  0.742504  0.707974   \n",
       "3  <tensorflow.python.keras.optimizer_v2.adam.Ada...  0.735497  0.682744   \n",
       "2  <tensorflow.python.keras.optimizer_v2.adam.Ada...  0.734308  0.676304   \n",
       "5  <tensorflow.python.keras.optimizer_v2.adam.Ada...  0.703165  0.663903   \n",
       "4  <tensorflow.python.keras.optimizer_v2.adam.Ada...  0.716705  0.659665   \n",
       "7  <tensorflow.python.keras.optimizer_v2.adam.Ada...  0.688745  0.656539   \n",
       "8  <tensorflow.python.keras.optimizer_v2.adam.Ada...  0.692105  0.617783   \n",
       "6  <tensorflow.python.keras.optimizer_v2.adam.Ada...  0.735179  0.605477   \n",
       "9  <tensorflow.python.keras.optimizer_v2.adam.Ada...  0.676239  0.496312   \n",
       "\n",
       "   res_median   res_min   res_std  \n",
       "1    0.711237  0.678766  0.011835  \n",
       "0    0.709502  0.665977  0.020682  \n",
       "3    0.690178  0.598915  0.035085  \n",
       "2    0.681211  0.554438  0.040720  \n",
       "5    0.664882  0.613228  0.020126  \n",
       "4    0.666879  0.582257  0.037770  \n",
       "7    0.655483  0.615488  0.012230  \n",
       "8    0.622787  0.538721  0.032760  \n",
       "6    0.613650  0.439480  0.066799  \n",
       "9    0.542439 -0.095041  0.181059  "
      ]
     },
     "execution_count": 16,
     "metadata": {},
     "output_type": "execute_result"
    }
   ],
   "source": [
    "best_result.sort_values('res_mean',ascending=False,inplace=True)\n",
    "best_result"
   ]
  },
  {
   "cell_type": "markdown",
   "metadata": {},
   "source": [
    "d \n",
    "### Отберем наиболее лучшие три модели  и еще раз попробуем разное количество эпох для них\n",
    "\n",
    "\n",
    "\n"
   ]
  },
  {
   "cell_type": "code",
   "execution_count": 17,
   "metadata": {},
   "outputs": [
    {
     "name": "stdout",
     "output_type": "stream",
     "text": [
      "2_741_tanh_975_relu\n",
      "2_923_tanh_988_relu\n",
      "3_546_sigmoid_806_relu_832_relu\n"
     ]
    }
   ],
   "source": [
    "best_models_full_data=[]\n",
    "for i in range(3):\n",
    "    my_iter = best_result.iloc[i]\n",
    "    print(my_iter['name'])\n",
    "    best_models_full_data.append(name_model(my_iter['name']))\n",
    "    "
   ]
  },
  {
   "cell_type": "code",
   "execution_count": 18,
   "metadata": {},
   "outputs": [
    {
     "name": "stdout",
     "output_type": "stream",
     "text": [
      "Wall time: 27min 51s\n"
     ]
    },
    {
     "data": {
      "text/html": [
       "<div>\n",
       "<style scoped>\n",
       "    .dataframe tbody tr th:only-of-type {\n",
       "        vertical-align: middle;\n",
       "    }\n",
       "\n",
       "    .dataframe tbody tr th {\n",
       "        vertical-align: top;\n",
       "    }\n",
       "\n",
       "    .dataframe thead th {\n",
       "        text-align: right;\n",
       "    }\n",
       "</style>\n",
       "<table border=\"1\" class=\"dataframe\">\n",
       "  <thead>\n",
       "    <tr style=\"text-align: right;\">\n",
       "      <th></th>\n",
       "      <th>epoch</th>\n",
       "      <th>name</th>\n",
       "      <th>res_max</th>\n",
       "      <th>res_mean</th>\n",
       "      <th>res_median</th>\n",
       "      <th>res_min</th>\n",
       "      <th>res_std</th>\n",
       "    </tr>\n",
       "  </thead>\n",
       "  <tbody>\n",
       "    <tr>\n",
       "      <th>2</th>\n",
       "      <td>300.0</td>\n",
       "      <td>2_923_tanh_988_relu</td>\n",
       "      <td>0.766633</td>\n",
       "      <td>0.748996</td>\n",
       "      <td>0.749634</td>\n",
       "      <td>0.710645</td>\n",
       "      <td>0.009344</td>\n",
       "    </tr>\n",
       "    <tr>\n",
       "      <th>0</th>\n",
       "      <td>300.0</td>\n",
       "      <td>2_741_tanh_975_relu</td>\n",
       "      <td>0.754453</td>\n",
       "      <td>0.735000</td>\n",
       "      <td>0.735758</td>\n",
       "      <td>0.720485</td>\n",
       "      <td>0.007800</td>\n",
       "    </tr>\n",
       "    <tr>\n",
       "      <th>3</th>\n",
       "      <td>500.0</td>\n",
       "      <td>2_923_tanh_988_relu</td>\n",
       "      <td>0.755957</td>\n",
       "      <td>0.732467</td>\n",
       "      <td>0.731949</td>\n",
       "      <td>0.709599</td>\n",
       "      <td>0.012317</td>\n",
       "    </tr>\n",
       "    <tr>\n",
       "      <th>5</th>\n",
       "      <td>500.0</td>\n",
       "      <td>3_546_sigmoid_806_relu_832_relu</td>\n",
       "      <td>0.769193</td>\n",
       "      <td>0.727631</td>\n",
       "      <td>0.724691</td>\n",
       "      <td>0.689816</td>\n",
       "      <td>0.018321</td>\n",
       "    </tr>\n",
       "    <tr>\n",
       "      <th>4</th>\n",
       "      <td>300.0</td>\n",
       "      <td>3_546_sigmoid_806_relu_832_relu</td>\n",
       "      <td>0.754642</td>\n",
       "      <td>0.724166</td>\n",
       "      <td>0.726923</td>\n",
       "      <td>0.686380</td>\n",
       "      <td>0.017218</td>\n",
       "    </tr>\n",
       "    <tr>\n",
       "      <th>1</th>\n",
       "      <td>500.0</td>\n",
       "      <td>2_741_tanh_975_relu</td>\n",
       "      <td>0.749037</td>\n",
       "      <td>0.719991</td>\n",
       "      <td>0.719589</td>\n",
       "      <td>0.696104</td>\n",
       "      <td>0.012885</td>\n",
       "    </tr>\n",
       "  </tbody>\n",
       "</table>\n",
       "</div>"
      ],
      "text/plain": [
       "   epoch                             name   res_max  res_mean  res_median  \\\n",
       "2  300.0              2_923_tanh_988_relu  0.766633  0.748996    0.749634   \n",
       "0  300.0              2_741_tanh_975_relu  0.754453  0.735000    0.735758   \n",
       "3  500.0              2_923_tanh_988_relu  0.755957  0.732467    0.731949   \n",
       "5  500.0  3_546_sigmoid_806_relu_832_relu  0.769193  0.727631    0.724691   \n",
       "4  300.0  3_546_sigmoid_806_relu_832_relu  0.754642  0.724166    0.726923   \n",
       "1  500.0              2_741_tanh_975_relu  0.749037  0.719991    0.719589   \n",
       "\n",
       "    res_min   res_std  \n",
       "2  0.710645  0.009344  \n",
       "0  0.720485  0.007800  \n",
       "3  0.709599  0.012317  \n",
       "5  0.689816  0.018321  \n",
       "4  0.686380  0.017218  \n",
       "1  0.696104  0.012885  "
      ]
     },
     "execution_count": 18,
     "metadata": {},
     "output_type": "execute_result"
    }
   ],
   "source": [
    "%%time\n",
    "test_num = 50\n",
    "best_result_full_data = pd.DataFrame()\n",
    "for m in best_models_full_data:\n",
    "    for ep in [300,500]:\n",
    "        testing=[]\n",
    "        for _ in range(test_num):\n",
    "            m[0].set_weights(m[1])\n",
    "            hh = m[0].fit(X_train,y_train,epochs=ep,\\\n",
    "                              validation_data=(X_test, y_test),verbose=0,batch_size=1000)\n",
    "            answer = hh.history['val_coeff_determination'][-1]\n",
    "            testing.append(answer)\n",
    "        testing = np.array(testing)\n",
    "        d={\n",
    "            'name':m[0].name,\n",
    "            'epoch': ep,\n",
    "            'res_min':testing.min(),\n",
    "            'res_max':testing.max(),\n",
    "            'res_mean':testing.mean(),\n",
    "            'res_std':testing.std(),\n",
    "            'res_median':np.median(testing)\n",
    "        }\n",
    "        best_result_full_data = best_result_full_data.append(d,ignore_index=True)\n",
    "best_result_full_data.sort_values('res_mean',ascending=False,inplace=True)\n",
    "best_result_full_data  "
   ]
  },
  {
   "cell_type": "code",
   "execution_count": null,
   "metadata": {},
   "outputs": [],
   "source": []
  },
  {
   "cell_type": "markdown",
   "metadata": {},
   "source": [
    "### сделаем ансабль"
   ]
  },
  {
   "cell_type": "code",
   "execution_count": 19,
   "metadata": {},
   "outputs": [],
   "source": [
    "a = best_models_full_data[0][0]\n",
    "b = best_models_full_data[1][0]\n",
    "c = best_models_full_data[2][0]\n",
    "\n",
    "out_all = keras.layers.Average()([a.output, b.output ,c.output])\n",
    "model_ansabl = Model(a.input,out_all,name = 'ansbl_full_data')\n",
    "\n",
    "model_ansabl.compile(optimizer=opt_adam,\n",
    "              loss=loss,\n",
    "              metrics=[metric])\n",
    "ww=model_ansabl.get_weights()"
   ]
  },
  {
   "cell_type": "markdown",
   "metadata": {},
   "source": [
    "avarage"
   ]
  },
  {
   "cell_type": "code",
   "execution_count": 20,
   "metadata": {},
   "outputs": [
    {
     "name": "stdout",
     "output_type": "stream",
     "text": [
      "Wall time: 13min 59s\n"
     ]
    },
    {
     "data": {
      "text/html": [
       "<div>\n",
       "<style scoped>\n",
       "    .dataframe tbody tr th:only-of-type {\n",
       "        vertical-align: middle;\n",
       "    }\n",
       "\n",
       "    .dataframe tbody tr th {\n",
       "        vertical-align: top;\n",
       "    }\n",
       "\n",
       "    .dataframe thead th {\n",
       "        text-align: right;\n",
       "    }\n",
       "</style>\n",
       "<table border=\"1\" class=\"dataframe\">\n",
       "  <thead>\n",
       "    <tr style=\"text-align: right;\">\n",
       "      <th></th>\n",
       "      <th>epoch</th>\n",
       "      <th>name</th>\n",
       "      <th>res_max</th>\n",
       "      <th>res_mean</th>\n",
       "      <th>res_median</th>\n",
       "      <th>res_min</th>\n",
       "      <th>res_std</th>\n",
       "      <th>type_ansabl</th>\n",
       "    </tr>\n",
       "  </thead>\n",
       "  <tbody>\n",
       "    <tr>\n",
       "      <th>2</th>\n",
       "      <td>500.0</td>\n",
       "      <td>ansbl_full_data</td>\n",
       "      <td>0.757275</td>\n",
       "      <td>0.745804</td>\n",
       "      <td>0.748409</td>\n",
       "      <td>0.727497</td>\n",
       "      <td>0.008303</td>\n",
       "      <td>avg</td>\n",
       "    </tr>\n",
       "    <tr>\n",
       "      <th>0</th>\n",
       "      <td>300.0</td>\n",
       "      <td>ansbl_full_data</td>\n",
       "      <td>0.754115</td>\n",
       "      <td>0.738271</td>\n",
       "      <td>0.741913</td>\n",
       "      <td>0.712185</td>\n",
       "      <td>0.008984</td>\n",
       "      <td>avg</td>\n",
       "    </tr>\n",
       "    <tr>\n",
       "      <th>1</th>\n",
       "      <td>100.0</td>\n",
       "      <td>ansbl_full_data</td>\n",
       "      <td>0.736865</td>\n",
       "      <td>0.727726</td>\n",
       "      <td>0.732959</td>\n",
       "      <td>0.680886</td>\n",
       "      <td>0.010904</td>\n",
       "      <td>avg</td>\n",
       "    </tr>\n",
       "  </tbody>\n",
       "</table>\n",
       "</div>"
      ],
      "text/plain": [
       "   epoch             name   res_max  res_mean  res_median   res_min   res_std  \\\n",
       "2  500.0  ansbl_full_data  0.757275  0.745804    0.748409  0.727497  0.008303   \n",
       "0  300.0  ansbl_full_data  0.754115  0.738271    0.741913  0.712185  0.008984   \n",
       "1  100.0  ansbl_full_data  0.736865  0.727726    0.732959  0.680886  0.010904   \n",
       "\n",
       "  type_ansabl  \n",
       "2         avg  \n",
       "0         avg  \n",
       "1         avg  "
      ]
     },
     "execution_count": 20,
     "metadata": {},
     "output_type": "execute_result"
    }
   ],
   "source": [
    "%%time\n",
    "test_num = 50\n",
    "result_ansamble = pd.DataFrame()\n",
    "for ep in [300,100,500]:\n",
    "    testing=[]\n",
    "    for _ in range(test_num):\n",
    "        model_ansabl.set_weights(ww)\n",
    "        hh = model_ansabl.fit(X_train,y_train,epochs=ep,\\\n",
    "                          validation_data=(X_test, y_test),verbose=0,batch_size=1000)\n",
    "        answer = hh.history['val_coeff_determination'][-1]\n",
    "        testing.append(answer)\n",
    "    testing = np.array(testing)\n",
    "    d={\n",
    "        'name':model_ansabl.name,\n",
    "        'epoch': ep,\n",
    "        'type_ansabl':'avg',\n",
    "        'res_min':testing.min(),\n",
    "        'res_max':testing.max(),\n",
    "        'res_mean':testing.mean(),\n",
    "        'res_std':testing.std(),\n",
    "        'res_median':np.median(testing)\n",
    "    }\n",
    "    result_ansamble = result_ansamble.append(d,ignore_index=True)\n",
    "result_ansamble.sort_values('res_mean',ascending=False,inplace=True)\n",
    "result_ansamble"
   ]
  },
  {
   "cell_type": "markdown",
   "metadata": {},
   "source": [
    "Maximum"
   ]
  },
  {
   "cell_type": "code",
   "execution_count": 21,
   "metadata": {},
   "outputs": [],
   "source": [
    "a = best_models_full_data[0][0]\n",
    "b = best_models_full_data[1][0]\n",
    "c = best_models_full_data[2][0]\n",
    "\n",
    "out_all = keras.layers.Maximum()([a.output, b.output ,c.output])\n",
    "model_ansabl = Model(a.input,out_all,name = 'ansbl_full_data')\n",
    "\n",
    "model_ansabl.compile(optimizer=opt_adam,\n",
    "              loss=loss,\n",
    "              metrics=[metric])\n",
    "ww=model_ansabl.get_weights()"
   ]
  },
  {
   "cell_type": "code",
   "execution_count": 22,
   "metadata": {},
   "outputs": [
    {
     "name": "stdout",
     "output_type": "stream",
     "text": [
      "Wall time: 2min 51s\n"
     ]
    },
    {
     "data": {
      "text/html": [
       "<div>\n",
       "<style scoped>\n",
       "    .dataframe tbody tr th:only-of-type {\n",
       "        vertical-align: middle;\n",
       "    }\n",
       "\n",
       "    .dataframe tbody tr th {\n",
       "        vertical-align: top;\n",
       "    }\n",
       "\n",
       "    .dataframe thead th {\n",
       "        text-align: right;\n",
       "    }\n",
       "</style>\n",
       "<table border=\"1\" class=\"dataframe\">\n",
       "  <thead>\n",
       "    <tr style=\"text-align: right;\">\n",
       "      <th></th>\n",
       "      <th>epoch</th>\n",
       "      <th>name</th>\n",
       "      <th>res_max</th>\n",
       "      <th>res_mean</th>\n",
       "      <th>res_median</th>\n",
       "      <th>res_min</th>\n",
       "      <th>res_std</th>\n",
       "      <th>type_ansabl</th>\n",
       "    </tr>\n",
       "  </thead>\n",
       "  <tbody>\n",
       "    <tr>\n",
       "      <th>0</th>\n",
       "      <td>500.0</td>\n",
       "      <td>ansbl_full_data</td>\n",
       "      <td>0.757275</td>\n",
       "      <td>0.745804</td>\n",
       "      <td>0.748409</td>\n",
       "      <td>0.727497</td>\n",
       "      <td>0.008303</td>\n",
       "      <td>avg</td>\n",
       "    </tr>\n",
       "    <tr>\n",
       "      <th>1</th>\n",
       "      <td>300.0</td>\n",
       "      <td>ansbl_full_data</td>\n",
       "      <td>0.754115</td>\n",
       "      <td>0.738271</td>\n",
       "      <td>0.741913</td>\n",
       "      <td>0.712185</td>\n",
       "      <td>0.008984</td>\n",
       "      <td>avg</td>\n",
       "    </tr>\n",
       "    <tr>\n",
       "      <th>3</th>\n",
       "      <td>300.0</td>\n",
       "      <td>ansbl_full_data</td>\n",
       "      <td>0.757872</td>\n",
       "      <td>0.736332</td>\n",
       "      <td>0.736441</td>\n",
       "      <td>0.710021</td>\n",
       "      <td>0.011882</td>\n",
       "      <td>max</td>\n",
       "    </tr>\n",
       "    <tr>\n",
       "      <th>4</th>\n",
       "      <td>100.0</td>\n",
       "      <td>ansbl_full_data</td>\n",
       "      <td>0.751476</td>\n",
       "      <td>0.734479</td>\n",
       "      <td>0.731571</td>\n",
       "      <td>0.722766</td>\n",
       "      <td>0.009187</td>\n",
       "      <td>max</td>\n",
       "    </tr>\n",
       "    <tr>\n",
       "      <th>2</th>\n",
       "      <td>100.0</td>\n",
       "      <td>ansbl_full_data</td>\n",
       "      <td>0.736865</td>\n",
       "      <td>0.727726</td>\n",
       "      <td>0.732959</td>\n",
       "      <td>0.680886</td>\n",
       "      <td>0.010904</td>\n",
       "      <td>avg</td>\n",
       "    </tr>\n",
       "    <tr>\n",
       "      <th>5</th>\n",
       "      <td>500.0</td>\n",
       "      <td>ansbl_full_data</td>\n",
       "      <td>0.742399</td>\n",
       "      <td>0.716461</td>\n",
       "      <td>0.715696</td>\n",
       "      <td>0.686200</td>\n",
       "      <td>0.014937</td>\n",
       "      <td>max</td>\n",
       "    </tr>\n",
       "  </tbody>\n",
       "</table>\n",
       "</div>"
      ],
      "text/plain": [
       "   epoch             name   res_max  res_mean  res_median   res_min   res_std  \\\n",
       "0  500.0  ansbl_full_data  0.757275  0.745804    0.748409  0.727497  0.008303   \n",
       "1  300.0  ansbl_full_data  0.754115  0.738271    0.741913  0.712185  0.008984   \n",
       "3  300.0  ansbl_full_data  0.757872  0.736332    0.736441  0.710021  0.011882   \n",
       "4  100.0  ansbl_full_data  0.751476  0.734479    0.731571  0.722766  0.009187   \n",
       "2  100.0  ansbl_full_data  0.736865  0.727726    0.732959  0.680886  0.010904   \n",
       "5  500.0  ansbl_full_data  0.742399  0.716461    0.715696  0.686200  0.014937   \n",
       "\n",
       "  type_ansabl  \n",
       "0         avg  \n",
       "1         avg  \n",
       "3         max  \n",
       "4         max  \n",
       "2         avg  \n",
       "5         max  "
      ]
     },
     "execution_count": 22,
     "metadata": {},
     "output_type": "execute_result"
    }
   ],
   "source": [
    "%%time\n",
    "test_num = 10\n",
    "# result_ansamble = pd.DataFrame()\n",
    "for ep in [300,100,500]:\n",
    "    testing=[]\n",
    "    for _ in range(test_num):\n",
    "        model_ansabl.set_weights(ww)\n",
    "        hh = model_ansabl.fit(X_train,y_train,epochs=ep,\\\n",
    "                          validation_data=(X_test, y_test),verbose=0,batch_size=1000)\n",
    "        answer = hh.history['val_coeff_determination'][-1]\n",
    "        testing.append(answer)\n",
    "    testing = np.array(testing)\n",
    "    d={\n",
    "        'name':model_ansabl.name,\n",
    "        'epoch': ep,\n",
    "        'type_ansabl':'max',\n",
    "        'res_min':testing.min(),\n",
    "        'res_max':testing.max(),\n",
    "        'res_mean':testing.mean(),\n",
    "        'res_std':testing.std(),\n",
    "        'res_median':np.median(testing)\n",
    "    }\n",
    "    result_ansamble = result_ansamble.append(d,ignore_index=True)\n",
    "result_ansamble.sort_values('res_mean',ascending=False,inplace=True)\n",
    "result_ansamble"
   ]
  },
  {
   "cell_type": "markdown",
   "metadata": {},
   "source": [
    "Minimum"
   ]
  },
  {
   "cell_type": "code",
   "execution_count": 23,
   "metadata": {},
   "outputs": [],
   "source": [
    "a = best_models_full_data[0][0]\n",
    "b = best_models_full_data[1][0]\n",
    "c = best_models_full_data[2][0]\n",
    "\n",
    "out_all = keras.layers.Minimum()([a.output, b.output ,c.output])\n",
    "model_ansabl = Model(a.input,out_all,name = 'ansbl_full_data')\n",
    "\n",
    "model_ansabl.compile(optimizer=opt_adam,\n",
    "              loss=loss,\n",
    "              metrics=[metric])\n",
    "ww=model_ansabl.get_weights()"
   ]
  },
  {
   "cell_type": "code",
   "execution_count": 24,
   "metadata": {},
   "outputs": [
    {
     "name": "stdout",
     "output_type": "stream",
     "text": [
      "Wall time: 2min 53s\n"
     ]
    },
    {
     "data": {
      "text/html": [
       "<div>\n",
       "<style scoped>\n",
       "    .dataframe tbody tr th:only-of-type {\n",
       "        vertical-align: middle;\n",
       "    }\n",
       "\n",
       "    .dataframe tbody tr th {\n",
       "        vertical-align: top;\n",
       "    }\n",
       "\n",
       "    .dataframe thead th {\n",
       "        text-align: right;\n",
       "    }\n",
       "</style>\n",
       "<table border=\"1\" class=\"dataframe\">\n",
       "  <thead>\n",
       "    <tr style=\"text-align: right;\">\n",
       "      <th></th>\n",
       "      <th>epoch</th>\n",
       "      <th>name</th>\n",
       "      <th>res_max</th>\n",
       "      <th>res_mean</th>\n",
       "      <th>res_median</th>\n",
       "      <th>res_min</th>\n",
       "      <th>res_std</th>\n",
       "      <th>type_ansabl</th>\n",
       "    </tr>\n",
       "  </thead>\n",
       "  <tbody>\n",
       "    <tr>\n",
       "      <th>0</th>\n",
       "      <td>500.0</td>\n",
       "      <td>ansbl_full_data</td>\n",
       "      <td>0.757275</td>\n",
       "      <td>0.745804</td>\n",
       "      <td>0.748409</td>\n",
       "      <td>0.727497</td>\n",
       "      <td>0.008303</td>\n",
       "      <td>avg</td>\n",
       "    </tr>\n",
       "    <tr>\n",
       "      <th>1</th>\n",
       "      <td>300.0</td>\n",
       "      <td>ansbl_full_data</td>\n",
       "      <td>0.754115</td>\n",
       "      <td>0.738271</td>\n",
       "      <td>0.741913</td>\n",
       "      <td>0.712185</td>\n",
       "      <td>0.008984</td>\n",
       "      <td>avg</td>\n",
       "    </tr>\n",
       "    <tr>\n",
       "      <th>2</th>\n",
       "      <td>300.0</td>\n",
       "      <td>ansbl_full_data</td>\n",
       "      <td>0.757872</td>\n",
       "      <td>0.736332</td>\n",
       "      <td>0.736441</td>\n",
       "      <td>0.710021</td>\n",
       "      <td>0.011882</td>\n",
       "      <td>max</td>\n",
       "    </tr>\n",
       "    <tr>\n",
       "      <th>3</th>\n",
       "      <td>100.0</td>\n",
       "      <td>ansbl_full_data</td>\n",
       "      <td>0.751476</td>\n",
       "      <td>0.734479</td>\n",
       "      <td>0.731571</td>\n",
       "      <td>0.722766</td>\n",
       "      <td>0.009187</td>\n",
       "      <td>max</td>\n",
       "    </tr>\n",
       "    <tr>\n",
       "      <th>4</th>\n",
       "      <td>100.0</td>\n",
       "      <td>ansbl_full_data</td>\n",
       "      <td>0.736865</td>\n",
       "      <td>0.727726</td>\n",
       "      <td>0.732959</td>\n",
       "      <td>0.680886</td>\n",
       "      <td>0.010904</td>\n",
       "      <td>avg</td>\n",
       "    </tr>\n",
       "    <tr>\n",
       "      <th>5</th>\n",
       "      <td>500.0</td>\n",
       "      <td>ansbl_full_data</td>\n",
       "      <td>0.742399</td>\n",
       "      <td>0.716461</td>\n",
       "      <td>0.715696</td>\n",
       "      <td>0.686200</td>\n",
       "      <td>0.014937</td>\n",
       "      <td>max</td>\n",
       "    </tr>\n",
       "    <tr>\n",
       "      <th>6</th>\n",
       "      <td>300.0</td>\n",
       "      <td>ansbl_full_data</td>\n",
       "      <td>0.718372</td>\n",
       "      <td>0.706217</td>\n",
       "      <td>0.705524</td>\n",
       "      <td>0.696921</td>\n",
       "      <td>0.007537</td>\n",
       "      <td>min</td>\n",
       "    </tr>\n",
       "    <tr>\n",
       "      <th>8</th>\n",
       "      <td>500.0</td>\n",
       "      <td>ansbl_full_data</td>\n",
       "      <td>0.725292</td>\n",
       "      <td>0.702595</td>\n",
       "      <td>0.703576</td>\n",
       "      <td>0.685902</td>\n",
       "      <td>0.010543</td>\n",
       "      <td>min</td>\n",
       "    </tr>\n",
       "    <tr>\n",
       "      <th>7</th>\n",
       "      <td>100.0</td>\n",
       "      <td>ansbl_full_data</td>\n",
       "      <td>0.720991</td>\n",
       "      <td>0.676484</td>\n",
       "      <td>0.709480</td>\n",
       "      <td>0.384851</td>\n",
       "      <td>0.097655</td>\n",
       "      <td>min</td>\n",
       "    </tr>\n",
       "  </tbody>\n",
       "</table>\n",
       "</div>"
      ],
      "text/plain": [
       "   epoch             name   res_max  res_mean  res_median   res_min   res_std  \\\n",
       "0  500.0  ansbl_full_data  0.757275  0.745804    0.748409  0.727497  0.008303   \n",
       "1  300.0  ansbl_full_data  0.754115  0.738271    0.741913  0.712185  0.008984   \n",
       "2  300.0  ansbl_full_data  0.757872  0.736332    0.736441  0.710021  0.011882   \n",
       "3  100.0  ansbl_full_data  0.751476  0.734479    0.731571  0.722766  0.009187   \n",
       "4  100.0  ansbl_full_data  0.736865  0.727726    0.732959  0.680886  0.010904   \n",
       "5  500.0  ansbl_full_data  0.742399  0.716461    0.715696  0.686200  0.014937   \n",
       "6  300.0  ansbl_full_data  0.718372  0.706217    0.705524  0.696921  0.007537   \n",
       "8  500.0  ansbl_full_data  0.725292  0.702595    0.703576  0.685902  0.010543   \n",
       "7  100.0  ansbl_full_data  0.720991  0.676484    0.709480  0.384851  0.097655   \n",
       "\n",
       "  type_ansabl  \n",
       "0         avg  \n",
       "1         avg  \n",
       "2         max  \n",
       "3         max  \n",
       "4         avg  \n",
       "5         max  \n",
       "6         min  \n",
       "8         min  \n",
       "7         min  "
      ]
     },
     "execution_count": 24,
     "metadata": {},
     "output_type": "execute_result"
    }
   ],
   "source": [
    "%%time\n",
    "test_num = 10\n",
    "# result_ansamble = pd.DataFrame()\n",
    "for ep in [300,100,500]:\n",
    "    testing=[]\n",
    "    for _ in range(test_num):\n",
    "        model_ansabl.set_weights(ww)\n",
    "        hh = model_ansabl.fit(X_train,y_train,epochs=ep,\\\n",
    "                          validation_data=(X_test, y_test),verbose=0,batch_size=1000)\n",
    "        answer = hh.history['val_coeff_determination'][-1]\n",
    "        testing.append(answer)\n",
    "    testing = np.array(testing)\n",
    "    d={\n",
    "        'name':model_ansabl.name,\n",
    "        'epoch': ep,\n",
    "        'type_ansabl':'min',\n",
    "        'res_min':testing.min(),\n",
    "        'res_max':testing.max(),\n",
    "        'res_mean':testing.mean(),\n",
    "        'res_std':testing.std(),\n",
    "        'res_median':np.median(testing)\n",
    "    }\n",
    "    result_ansamble = result_ansamble.append(d,ignore_index=True)\n",
    "result_ansamble.sort_values('res_mean',ascending=False,inplace=True)\n",
    "result_ansamble"
   ]
  },
  {
   "cell_type": "code",
   "execution_count": null,
   "metadata": {},
   "outputs": [],
   "source": []
  },
  {
   "cell_type": "code",
   "execution_count": null,
   "metadata": {},
   "outputs": [],
   "source": [
    "\n"
   ]
  },
  {
   "cell_type": "code",
   "execution_count": null,
   "metadata": {},
   "outputs": [],
   "source": []
  },
  {
   "cell_type": "code",
   "execution_count": null,
   "metadata": {},
   "outputs": [],
   "source": []
  },
  {
   "cell_type": "code",
   "execution_count": null,
   "metadata": {},
   "outputs": [],
   "source": []
  }
 ],
 "metadata": {
  "kernelspec": {
   "display_name": "Python 3",
   "language": "python",
   "name": "python3"
  },
  "language_info": {
   "codemirror_mode": {
    "name": "ipython",
    "version": 3
   },
   "file_extension": ".py",
   "mimetype": "text/x-python",
   "name": "python",
   "nbconvert_exporter": "python",
   "pygments_lexer": "ipython3",
   "version": "3.8.5"
  }
 },
 "nbformat": 4,
 "nbformat_minor": 4
}
