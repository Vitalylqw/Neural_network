{
 "cells": [
  {
   "cell_type": "code",
   "execution_count": null,
   "metadata": {},
   "outputs": [],
   "source": [
    "import tensorflow as tf\n",
    "physical_devices = tf.config.list_physical_devices('GPU') \n",
    "tf.config.experimental.set_memory_growth(physical_devices[0], True)\n",
    "\n",
    "# Для запуска графического ядра\n",
    "import time\n",
    "\n",
    "def time_matmul(x):\n",
    "  start = time.time()\n",
    "  for loop in range(100):\n",
    "    tf.matmul(x, x)\n",
    "\n",
    "  result = time.time()-start\n",
    "\n",
    "  print(\"100 циклов: {:0.2f}ms\".format(1000*result))\n",
    "\n",
    "for i in range(2):\n",
    "    # исполнение CPU\n",
    "    print(\" CPU работает:\")\n",
    "    with tf.device(\"CPU:0\"):\n",
    "      x = tf.random.uniform([1000, 1000])\n",
    "      assert x.device.endswith(\"CPU:0\")\n",
    "      time_matmul(x)\n",
    "\n",
    "    # исполнение на GPU #0 , если доступен\n",
    "    if tf.config.experimental.list_physical_devices(\"GPU\"):\n",
    "      print(\" какой GPU:\")\n",
    "      with tf.device(\"GPU:0\"): # или GPU:1 , для 2х GPU, GPU:2 для 3х  и т.д.\n",
    "        x = tf.random.uniform([1000, 1000])\n",
    "        assert x.device.endswith(\"GPU:0\")\n",
    "        time_matmul(x)\n",
    "del x "
   ]
  }
 ],
 "metadata": {
  "kernelspec": {
   "display_name": "Python 3",
   "language": "python",
   "name": "python3"
  },
  "language_info": {
   "codemirror_mode": {
    "name": "ipython",
    "version": 3
   },
   "file_extension": ".py",
   "mimetype": "text/x-python",
   "name": "python",
   "nbconvert_exporter": "python",
   "pygments_lexer": "ipython3",
   "version": "3.8.5"
  }
 },
 "nbformat": 4,
 "nbformat_minor": 4
}
